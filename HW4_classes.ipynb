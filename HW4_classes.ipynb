{
 "cells": [
  {
   "cell_type": "code",
   "execution_count": 2,
   "id": "8e95a303",
   "metadata": {},
   "outputs": [],
   "source": [
    "from dataclasses import dataclass\n",
    "from datetime import date\n",
    "@dataclass\n",
    "class MediaFile:\n",
    "    \n",
    "    name:str\n",
    "    size:float\n",
    "    format:str\n",
    "    path:str\n",
    "    date_creation:date\n",
    "    owner:str\n",
    "        \n",
    "    def rename(self,new_name):\n",
    "        self.name=new_name"
   ]
  },
  {
   "cell_type": "code",
   "execution_count": 3,
   "id": "3cc948c0",
   "metadata": {},
   "outputs": [],
   "source": [
    "class InvalidFormat(Exception):\n",
    "    def __str__(self):\n",
    "        return 'Invalid audio format!'"
   ]
  },
  {
   "cell_type": "code",
   "execution_count": 4,
   "id": "725dbf84",
   "metadata": {},
   "outputs": [],
   "source": [
    "compressed_formats=['MP3','AAC','OGG','WMA','Opus']\n",
    "class Audio(MediaFile):\n",
    "    modified=None\n",
    "    def __init__(self,name,size,format,path,date_creation,owner,length,singer,album,year):\n",
    "        super().__init__(name,size,format,path,date_creation,owner)\n",
    "        self.length=length\n",
    "        self.singer=singer\n",
    "        self.album=album\n",
    "        self.year=year\n",
    "    def get_info_song(self):\n",
    "        return f'The singer: {self.singer}, Song: {self.name}, Album: {self.album}, Production: {self.year}'\n",
    "    def check_format(self):\n",
    "        if self.format not in compressed_formats:\n",
    "            raise InvalidFormat()"
   ]
  },
  {
   "cell_type": "code",
   "execution_count": 19,
   "id": "d4067346",
   "metadata": {},
   "outputs": [],
   "source": [
    "song_1=Audio('Numb',13.5,'MP5','C://Users/User1',date(2025,1,4),'User1',3.07,'Linkin park','Meteora',2003)"
   ]
  },
  {
   "cell_type": "code",
   "execution_count": 20,
   "id": "81cccb0e",
   "metadata": {},
   "outputs": [
    {
     "ename": "InvalidFormat",
     "evalue": "Invalid audio format!",
     "output_type": "error",
     "traceback": [
      "\u001b[1;31m---------------------------------------------------------------------------\u001b[0m",
      "\u001b[1;31mInvalidFormat\u001b[0m                             Traceback (most recent call last)",
      "Cell \u001b[1;32mIn[20], line 1\u001b[0m\n\u001b[1;32m----> 1\u001b[0m \u001b[43msong_1\u001b[49m\u001b[38;5;241;43m.\u001b[39;49m\u001b[43mcheck_format\u001b[49m\u001b[43m(\u001b[49m\u001b[43m)\u001b[49m\n",
      "Cell \u001b[1;32mIn[18], line 14\u001b[0m, in \u001b[0;36mAudio.check_format\u001b[1;34m(self)\u001b[0m\n\u001b[0;32m     12\u001b[0m \u001b[38;5;28;01mdef\u001b[39;00m \u001b[38;5;21mcheck_format\u001b[39m(\u001b[38;5;28mself\u001b[39m):\n\u001b[0;32m     13\u001b[0m     \u001b[38;5;28;01mif\u001b[39;00m \u001b[38;5;28mself\u001b[39m\u001b[38;5;241m.\u001b[39mformat \u001b[38;5;129;01mnot\u001b[39;00m \u001b[38;5;129;01min\u001b[39;00m compressed_formats:\n\u001b[1;32m---> 14\u001b[0m         \u001b[38;5;28;01mraise\u001b[39;00m InvalidFormat()\n",
      "\u001b[1;31mInvalidFormat\u001b[0m: Invalid audio format!"
     ]
    }
   ],
   "source": [
    "song_1.check_format()"
   ]
  },
  {
   "cell_type": "code",
   "execution_count": 7,
   "id": "283f3191",
   "metadata": {},
   "outputs": [],
   "source": [
    "compressed_formats=['MP4','AVI','MKV','MOV','WEBM']\n",
    "class Video(MediaFile):\n",
    "    def __init__(self,name,size,format,date_creation,owner,length):\n",
    "        super().__init__(name,size,format,date_creation,owner)\n",
    "        self.length=length\n",
    "    def check_format(self):\n",
    "        if self.format not in compressed_formats:\n",
    "            raise InvalidFormat()"
   ]
  },
  {
   "cell_type": "code",
   "execution_count": 6,
   "id": "7e978bba",
   "metadata": {},
   "outputs": [],
   "source": [
    "compressed_formats=['JPEG','JPG','PNG','GIF','BMP','TIFF','TIF','WEBP']\n",
    "class Image(MediaFile):\n",
    "    def __init__(self,name,size,format,date_creation,owner,resolution,width,height):\n",
    "        super().__init__(name,size,format,date_creation,owner)\n",
    "        self.resolution=resolution\n",
    "        self.width=width\n",
    "        self.height=height\n",
    "    def check_format(self):\n",
    "        if self.format not in compressed_formats:\n",
    "            raise InvalidFormat()"
   ]
  },
  {
   "cell_type": "code",
   "execution_count": null,
   "id": "ac0d8038",
   "metadata": {},
   "outputs": [],
   "source": []
  }
 ],
 "metadata": {
  "kernelspec": {
   "display_name": "Python 3 (ipykernel)",
   "language": "python",
   "name": "python3"
  },
  "language_info": {
   "codemirror_mode": {
    "name": "ipython",
    "version": 3
   },
   "file_extension": ".py",
   "mimetype": "text/x-python",
   "name": "python",
   "nbconvert_exporter": "python",
   "pygments_lexer": "ipython3",
   "version": "3.10.0"
  }
 },
 "nbformat": 4,
 "nbformat_minor": 5
}
